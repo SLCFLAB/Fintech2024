{
  "cells": [
    {
      "cell_type": "markdown",
      "metadata": {
        "id": "view-in-github",
        "colab_type": "text"
      },
      "source": [
        "<a href=\"https://colab.research.google.com/github/SLCFLAB/Fintech2023-2/blob/main/ML_day10/10_0_word_embedding.ipynb\" target=\"_parent\"><img src=\"https://colab.research.google.com/assets/colab-badge.svg\" alt=\"Open In Colab\"/></a>"
      ]
    },
    {
      "cell_type": "markdown",
      "source": [
        "# Word Embedding"
      ],
      "metadata": {
        "id": "Z7FBcTcPLOfq"
      }
    },
    {
      "cell_type": "markdown",
      "source": [
        "자연어차리는 언어데이터를 기반으로 정보를 추출하고 분석, 활용하는 기술\n",
        "- 분석 단위 설정: 토큰화(Tokenize)\n",
        "- 불필요한 단어 제거: 스토핑(Stopping)\n",
        "> a, the, 은, 는, 이, 가\n",
        "- 단어의 형태 고려: 스테밍(Stemming)\n",
        "> ed, ing, 하다, 했다, 할 것이다\n"
      ],
      "metadata": {
        "id": "hvdQPk7tRKgI"
      }
    },
    {
      "cell_type": "markdown",
      "source": [
        "이렇게 전처리 한 후 어떻게 해야할까?\n",
        "> Word Embedding(단어를 벡터화 하는 것)\n",
        "- Bag of Words\n",
        "- Word2Vec"
      ],
      "metadata": {
        "id": "_tSWrBXfSIWg"
      }
    },
    {
      "cell_type": "markdown",
      "source": [
        "## Word2Vec"
      ],
      "metadata": {
        "id": "omU5n4ixUJMZ"
      }
    },
    {
      "cell_type": "markdown",
      "source": [
        "http://w.elnn.kr/search/ 단어간의 유사도 측정"
      ],
      "metadata": {
        "id": "9Pbl9km_Y4kw"
      }
    },
    {
      "cell_type": "markdown",
      "source": [
        "단어를 벡터로 바꿔서 단어간의 연산이 가능하도록 만들었다: 비슷한 위치의 단어는 비슷한 의미를 가진다"
      ],
      "metadata": {
        "id": "C_v0oMUEaTmm"
      }
    },
    {
      "cell_type": "code",
      "execution_count": 1,
      "metadata": {
        "id": "34392ba0"
      },
      "outputs": [],
      "source": [
        "from gensim.models import Word2Vec"
      ]
    },
    {
      "cell_type": "code",
      "execution_count": 2,
      "metadata": {
        "colab": {
          "base_uri": "https://localhost:8080/"
        },
        "id": "61abb9a8",
        "outputId": "af8d4dac-984d-488a-abf5-fa8e94845913"
      },
      "outputs": [
        {
          "output_type": "stream",
          "name": "stdout",
          "text": [
            "Word2Vec<vocab=14, vector_size=100, alpha=0.025>\n"
          ]
        }
      ],
      "source": [
        "# define training data\n",
        "sentences = [['this', 'is', 'the', 'first', 'sentence', 'for', 'word2vec'],\n",
        "             ['this', 'is', 'the', 'second', 'sentence'],\n",
        "             ['yet', 'another', 'sentence'],\n",
        "             ['one', 'more', 'sentence'],\n",
        "             ['and', 'the', 'final', 'sentence']]\n",
        "# train model\n",
        "# 문장을 이용하여 단어와 벡터를 생성한다.\n",
        "model = Word2Vec(sentences, min_count=1) #min count: 빈도 작은 것은 학습하지 않기 위해서\n",
        "# summarize the loaded model\n",
        "print(model)"
      ]
    },
    {
      "cell_type": "code",
      "source": [
        "# 단어벡터를 구하고, 단어간 유사도를 확인하다\n",
        "model_result = model.wv.most_similar(\"this\")\n",
        "print(model_result)"
      ],
      "metadata": {
        "colab": {
          "base_uri": "https://localhost:8080/"
        },
        "id": "M_H92ioNkuMC",
        "outputId": "53e561d9-965d-479a-902d-65a4032b7fe8"
      },
      "execution_count": 3,
      "outputs": [
        {
          "output_type": "stream",
          "name": "stdout",
          "text": [
            "[('and', 0.13149002194404602), ('another', 0.07497557997703552), ('the', 0.06797593086957932), ('more', 0.04157734289765358), ('word2vec', 0.04130810499191284), ('second', 0.012979976832866669), ('first', 0.00659845769405365), ('for', -0.009253417141735554), ('is', -0.013514931313693523), ('one', -0.013679763302206993)]\n"
          ]
        }
      ]
    },
    {
      "cell_type": "code",
      "source": [
        "model.wv.most_similar(\"this\")"
      ],
      "metadata": {
        "colab": {
          "base_uri": "https://localhost:8080/"
        },
        "id": "cHavfJkXk6dI",
        "outputId": "fcfd2eb5-88e7-4d3f-ded3-1ebe2e03b11d"
      },
      "execution_count": 4,
      "outputs": [
        {
          "output_type": "execute_result",
          "data": {
            "text/plain": [
              "[('and', 0.13149002194404602),\n",
              " ('another', 0.07497557997703552),\n",
              " ('the', 0.06797593086957932),\n",
              " ('more', 0.04157734289765358),\n",
              " ('word2vec', 0.04130810499191284),\n",
              " ('second', 0.012979976832866669),\n",
              " ('first', 0.00659845769405365),\n",
              " ('for', -0.009253417141735554),\n",
              " ('is', -0.013514931313693523),\n",
              " ('one', -0.013679763302206993)]"
            ]
          },
          "metadata": {},
          "execution_count": 4
        }
      ]
    },
    {
      "cell_type": "code",
      "source": [
        "model.wv.similarity(w1='first', w2='second')"
      ],
      "metadata": {
        "id": "6ehLr_QKVT-o",
        "outputId": "81bde805-031b-49be-a704-4e82afd04930",
        "colab": {
          "base_uri": "https://localhost:8080/"
        }
      },
      "execution_count": 5,
      "outputs": [
        {
          "output_type": "execute_result",
          "data": {
            "text/plain": [
              "-0.0011978373"
            ]
          },
          "metadata": {},
          "execution_count": 5
        }
      ]
    },
    {
      "cell_type": "code",
      "source": [
        "from gensim.models import Word2Vec\n",
        "import matplotlib.pyplot as plt\n",
        "\n",
        "# 단어와 2차원 X축의 값, Y축의 값을 입력받아 2차원 그래프를 그린다\n",
        "def plot_2d_graph(vocabs, xs, ys):\n",
        "    plt.figure(figsize=(8 ,6))\n",
        "    plt.scatter(xs, ys, marker = 'o')\n",
        "    for i, v in enumerate(vocabs):\n",
        "        plt.annotate(v, xy=(xs[i], ys[i]))\n",
        "\n",
        "\n",
        "# 단어벡터를 구한다.\n",
        "word_vectors = model.wv\n",
        "vocabs = word_vectors.key_to_index\n",
        "word_vectors_list = [word_vectors[v] for v in vocabs]\n",
        "\n",
        "\n",
        "from sklearn.decomposition import PCA\n",
        "pca = PCA(n_components=2)\n",
        "xys = pca.fit_transform(word_vectors_list)\n",
        "xs = xys[:,0]\n",
        "ys = xys[:,1]\n",
        "\n",
        "plot_2d_graph(vocabs, xs, ys)"
      ],
      "metadata": {
        "id": "RzfCNVuMUZwG",
        "outputId": "4088539a-fe22-4b06-a9d5-ff926a07b385",
        "colab": {
          "base_uri": "https://localhost:8080/",
          "height": 522
        }
      },
      "execution_count": 14,
      "outputs": [
        {
          "output_type": "display_data",
          "data": {
            "text/plain": [
              "<Figure size 800x600 with 1 Axes>"
            ],
            "image/png": "[encoded data removed]"
          },
          "metadata": {}
        }
      ]
    }
  ],
  "metadata": {
    "kernelspec": {
      "display_name": "Python 3",
      "language": "python",
      "name": "python3"
    },
    "language_info": {
      "codemirror_mode": {
        "name": "ipython",
        "version": 3
      },
      "file_extension": ".py",
      "mimetype": "text/x-python",
      "name": "python",
      "nbconvert_exporter": "python",
      "pygments_lexer": "ipython3",
      "version": "3.6.5"
    },
    "varInspector": {
      "cols": {
        "lenName": 16,
        "lenType": 16,
        "lenVar": 40
      },
      "kernels_config": {
        "python": {
          "delete_cmd_postfix": "",
          "delete_cmd_prefix": "del ",
          "library": "var_list.py",
          "varRefreshCmd": "print(var_dic_list())"
        },
        "r": {
          "delete_cmd_postfix": ") ",
          "delete_cmd_prefix": "rm(",
          "library": "var_list.r",
          "varRefreshCmd": "cat(var_dic_list()) "
        }
      },
      "types_to_exclude": [
        "module",
        "function",
        "builtin_function_or_method",
        "instance",
        "_Feature"
      ],
      "window_display": false
    },
    "colab": {
      "name": "ML_day10_0",
      "provenance": [],
      "include_colab_link": true
    },
    "accelerator": "GPU"
  },
  "nbformat": 4,
  "nbformat_minor": 0
}